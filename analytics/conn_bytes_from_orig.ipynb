{
 "cells": [
  {
   "cell_type": "code",
   "execution_count": 41,
   "metadata": {},
   "outputs": [],
   "source": [
    "from bat.log_to_dataframe import bro_log_reader, LogToDataFrame"
   ]
  },
  {
   "cell_type": "code",
   "execution_count": 42,
   "metadata": {},
   "outputs": [
    {
     "name": "stdout",
     "output_type": "stream",
     "text": [
      "Successfully monitoring ./giant/conn.log...\n"
     ]
    }
   ],
   "source": [
    "#giant/conn.log is all of the conn.log files concatinated into one file.\n",
    "df = LogToDataFrame('./giant/conn.log')"
   ]
  },
  {
   "cell_type": "code",
   "execution_count": 43,
   "metadata": {},
   "outputs": [],
   "source": [
    "def to_KB(num):\n",
    "    return num/2**10\n",
    "bytes_std = {'std':to_KB(df['orig_ip_bytes'].std()),\n",
    "             'min':to_KB(df['orig_ip_bytes'].min()),\n",
    "             'max':to_KB(df['orig_ip_bytes'].max())\n",
    "            }"
   ]
  },
  {
   "cell_type": "code",
   "execution_count": 44,
   "metadata": {},
   "outputs": [
    {
     "name": "stdout",
     "output_type": "stream",
     "text": [
      "Here are the orig_ip_bytes transfered per connection, in KB\n",
      "{'std': 70.76631541862199, 'max': 1685.75390625, 'min': 0.0}\n"
     ]
    }
   ],
   "source": [
    "print('Here are the orig_ip_bytes transfered per connection, in KB')\n",
    "print(bytes_std)"
   ]
  },
  {
   "cell_type": "code",
   "execution_count": null,
   "metadata": {},
   "outputs": [],
   "source": []
  },
  {
   "cell_type": "code",
   "execution_count": null,
   "metadata": {},
   "outputs": [],
   "source": []
  }
 ],
 "metadata": {
  "kernelspec": {
   "display_name": "Python 3",
   "language": "python",
   "name": "python3"
  },
  "language_info": {
   "codemirror_mode": {
    "name": "ipython",
    "version": 3
   },
   "file_extension": ".py",
   "mimetype": "text/x-python",
   "name": "python",
   "nbconvert_exporter": "python",
   "pygments_lexer": "ipython3",
   "version": "3.5.3"
  }
 },
 "nbformat": 4,
 "nbformat_minor": 2
}
