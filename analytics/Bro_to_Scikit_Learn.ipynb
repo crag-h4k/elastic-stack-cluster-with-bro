{
 "cells": [
  {
   "cell_type": "code",
   "execution_count": 1,
   "metadata": {},
   "outputs": [],
   "source": [
    "# Third Party Imports\n",
    "import pandas as pd\n",
    "import sklearn\n",
    "from sklearn.manifold import TSNE\n",
    "from sklearn.decomposition import PCA\n",
    "from sklearn.discriminant_analysis import LinearDiscriminantAnalysis\n",
    "from sklearn.cluster import KMeans\n",
    "import matplotlib.pyplot as plt\n",
    "import numpy as np\n",
    "import bat\n",
    "from bat import log_to_dataframe\n",
    "from bat import dataframe_to_matrix"
   ]
  },
  {
   "cell_type": "code",
   "execution_count": 35,
   "metadata": {},
   "outputs": [
    {
     "name": "stdout",
     "output_type": "stream",
     "text": [
      "Successfully monitoring /home/dane/giant/dns.log...\n"
     ]
    }
   ],
   "source": [
    "bro_df = log_to_dataframe.LogToDataFrame('/home/dane/giant/dns.log')\n",
    "#bro_df.head()"
   ]
  },
  {
   "cell_type": "code",
   "execution_count": 36,
   "metadata": {},
   "outputs": [],
   "source": [
    "# Using Pandas we can easily and efficiently compute additional data metrics\n",
    "# Here we use the vectorized operations of Pandas/Numpy to compute query length\n",
    "bro_df['query_length'] = bro_df['query'].str.len()"
   ]
  },
  {
   "cell_type": "code",
   "execution_count": 37,
   "metadata": {},
   "outputs": [],
   "source": [
    "#http://www.networksorcery.com/enp/protocol/dns.htm\n",
    "#features = ['id.orig_h','id.orig_p','id.resp_h','AA', 'RA', 'RD', 'TC', 'Z', 'rejected', 'proto', 'query', \n",
    "#            'qclass_name', 'qtype_name', 'rcode_name', 'query_length']\n",
    "features = ['id.orig_h','id.orig_p',\n",
    "            'id.resp_h', 'id.resp_p',\n",
    "            'rejected','proto',\n",
    "            'rcode_name', 'query_length']\n",
    "feature_df = bro_df[features]\n",
    "#feature_df.head()\n"
   ]
  },
  {
   "cell_type": "code",
   "execution_count": 38,
   "metadata": {},
   "outputs": [
    {
     "name": "stdout",
     "output_type": "stream",
     "text": [
      "Changing column id.orig_h to category...\n",
      "Changing column id.resp_h to category...\n",
      "Changing column proto to category...\n",
      "Changing column rcode_name to category...\n",
      "Normalizing column id.orig_p...\n",
      "Normalizing column id.resp_p...\n",
      "Normalizing column query_length...\n"
     ]
    }
   ],
   "source": [
    "to_matrix = dataframe_to_matrix.DataFrameToMatrix()\n",
    "bro_matrix = to_matrix.fit_transform(feature_df)"
   ]
  },
  {
   "cell_type": "code",
   "execution_count": 39,
   "metadata": {},
   "outputs": [
    {
     "name": "stdout",
     "output_type": "stream",
     "text": [
      "['id.orig_h', 'id.resp_h', 'proto', 'rcode_name']\n",
      "{'id.orig_p': (137, 64896), 'id.resp_p': (53, 5355), 'query_length': (1, 54)}\n"
     ]
    }
   ],
   "source": [
    "# Just showing that the class is tracking categoricals and normalization maps\n",
    "print(to_matrix.cat_columns)\n",
    "print(to_matrix.norm_map)"
   ]
  },
  {
   "cell_type": "code",
   "execution_count": 41,
   "metadata": {},
   "outputs": [
    {
     "data": {
      "text/html": [
       "<div>\n",
       "<style scoped>\n",
       "    .dataframe tbody tr th:only-of-type {\n",
       "        vertical-align: middle;\n",
       "    }\n",
       "\n",
       "    .dataframe tbody tr th {\n",
       "        vertical-align: top;\n",
       "    }\n",
       "\n",
       "    .dataframe thead th {\n",
       "        text-align: right;\n",
       "    }\n",
       "</style>\n",
       "<table border=\"1\" class=\"dataframe\">\n",
       "  <thead>\n",
       "    <tr style=\"text-align: right;\">\n",
       "      <th></th>\n",
       "      <th>id.orig_h</th>\n",
       "      <th>id.orig_p</th>\n",
       "      <th>id.resp_h</th>\n",
       "      <th>id.resp_p</th>\n",
       "      <th>rejected</th>\n",
       "      <th>proto</th>\n",
       "      <th>rcode_name</th>\n",
       "      <th>query_length</th>\n",
       "      <th>cluster</th>\n",
       "    </tr>\n",
       "    <tr>\n",
       "      <th>ts</th>\n",
       "      <th></th>\n",
       "      <th></th>\n",
       "      <th></th>\n",
       "      <th></th>\n",
       "      <th></th>\n",
       "      <th></th>\n",
       "      <th></th>\n",
       "      <th></th>\n",
       "      <th></th>\n",
       "    </tr>\n",
       "  </thead>\n",
       "  <tbody>\n",
       "    <tr>\n",
       "      <th>2018-12-07 20:58:54.398597</th>\n",
       "      <td>192.168.230.10</td>\n",
       "      <td>5353</td>\n",
       "      <td>224.0.0.251</td>\n",
       "      <td>5353</td>\n",
       "      <td>False</td>\n",
       "      <td>udp</td>\n",
       "      <td>NOERROR</td>\n",
       "      <td>54</td>\n",
       "      <td>0</td>\n",
       "    </tr>\n",
       "    <tr>\n",
       "      <th>2018-12-07 20:58:54.398597</th>\n",
       "      <td>fe80::fe66:9c07:d4c0:e690</td>\n",
       "      <td>5353</td>\n",
       "      <td>ff02::fb</td>\n",
       "      <td>5353</td>\n",
       "      <td>False</td>\n",
       "      <td>udp</td>\n",
       "      <td>-</td>\n",
       "      <td>54</td>\n",
       "      <td>1</td>\n",
       "    </tr>\n",
       "    <tr>\n",
       "      <th>2018-12-07 20:58:54.398597</th>\n",
       "      <td>fe80::8a51:fbff:fee9:e904</td>\n",
       "      <td>5353</td>\n",
       "      <td>ff02::fb</td>\n",
       "      <td>5353</td>\n",
       "      <td>False</td>\n",
       "      <td>udp</td>\n",
       "      <td>NOERROR</td>\n",
       "      <td>54</td>\n",
       "      <td>0</td>\n",
       "    </tr>\n",
       "    <tr>\n",
       "      <th>2018-12-07 21:00:00.098604</th>\n",
       "      <td>192.168.230.115</td>\n",
       "      <td>45541</td>\n",
       "      <td>192.168.196.52</td>\n",
       "      <td>53</td>\n",
       "      <td>False</td>\n",
       "      <td>udp</td>\n",
       "      <td>NXDOMAIN</td>\n",
       "      <td>1</td>\n",
       "      <td>2</td>\n",
       "    </tr>\n",
       "    <tr>\n",
       "      <th>2018-12-07 20:58:54.395193</th>\n",
       "      <td>fe80::fe66:9c07:d4c0:e690</td>\n",
       "      <td>5353</td>\n",
       "      <td>ff02::fb</td>\n",
       "      <td>5353</td>\n",
       "      <td>False</td>\n",
       "      <td>udp</td>\n",
       "      <td>-</td>\n",
       "      <td>54</td>\n",
       "      <td>1</td>\n",
       "    </tr>\n",
       "  </tbody>\n",
       "</table>\n",
       "</div>"
      ],
      "text/plain": [
       "                                            id.orig_h  id.orig_p       id.resp_h  id.resp_p  rejected proto rcode_name  query_length  cluster\n",
       "ts                                                                                                                                           \n",
       "2018-12-07 20:58:54.398597             192.168.230.10       5353     224.0.0.251       5353     False   udp    NOERROR            54        0\n",
       "2018-12-07 20:58:54.398597  fe80::fe66:9c07:d4c0:e690       5353        ff02::fb       5353     False   udp          -            54        1\n",
       "2018-12-07 20:58:54.398597  fe80::8a51:fbff:fee9:e904       5353        ff02::fb       5353     False   udp    NOERROR            54        0\n",
       "2018-12-07 21:00:00.098604            192.168.230.115      45541  192.168.196.52         53     False   udp   NXDOMAIN             1        2\n",
       "2018-12-07 20:58:54.395193  fe80::fe66:9c07:d4c0:e690       5353        ff02::fb       5353     False   udp          -            54        1"
      ]
     },
     "execution_count": 41,
     "metadata": {},
     "output_type": "execute_result"
    }
   ],
   "source": [
    "# Now we're ready for scikit-learn!\n",
    "# Just some simple stuff for this example, KMeans and TSNE projection\n",
    "kmeans = KMeans(n_clusters=3).fit_predict(bro_matrix)\n",
    "#projection = TSNE().fit_transform(bro_matrix)\n",
    "\n",
    "# Now we can put our ML results back onto our dataframe!\n",
    "#bro_df['x'] = projection[:, 0] # Projection X Column\n",
    "#bro_df['y'] = projection[:, 1] # Projection Y Column\n",
    "bro_df['cluster'] = kmeans\n",
    "#bro_df[['id.orig_h','id.orig_p','id.resp_h','query', 'proto', 'x', 'y', 'cluster']].head()  # Showing the scikit-learn results in our dataframe\n",
    "#bro_df[['id.orig_h','id.orig_p','id.resp_h','query', 'proto',  'cluster']].head()  # Showing the scikit-learn results in our dataframe\n",
    "bro_df[['id.orig_h','id.orig_p',\n",
    "            'id.resp_h', 'id.resp_p',\n",
    "            'rejected','proto',\n",
    "            'rcode_name', 'query_length',\n",
    "        'cluster']].head()"
   ]
  },
  {
   "cell_type": "code",
   "execution_count": 42,
   "metadata": {
    "collapsed": true
   },
   "outputs": [],
   "source": [
    "%matplotlib inline\n",
    "import matplotlib.pyplot as plt\n",
    "plt.rcParams['font.size'] = 8.0\n",
    "plt.rcParams['figure.figsize'] = 15.0, 7.0"
   ]
  },
  {
   "cell_type": "code",
   "execution_count": 43,
   "metadata": {
    "collapsed": true
   },
   "outputs": [],
   "source": [
    "#print(bro_df)\n",
    "cluster_groups = bro_df.groupby('cluster')"
   ]
  },
  {
   "cell_type": "code",
   "execution_count": 53,
   "metadata": {},
   "outputs": [
    {
     "data": {
      "image/png": "[encoded data removed]",
      "text/plain": [
       "<Figure size 1080x504 with 1 Axes>"
      ]
     },
     "metadata": {
      "needs_background": "light"
     },
     "output_type": "display_data"
    }
   ],
   "source": [
    "# Now use dataframe group by cluster\n",
    "#cluster_groups = bro_df.groupby('cluster')\n",
    "\n",
    "'''bro_df[['id.orig_h','id.orig_p',\n",
    "            'id.resp_h', 'id.resp_p',\n",
    "            'rejected','proto',\n",
    "            'rcode_name', 'query_length',\n",
    "        'cluster']].head()\n",
    "'''\n",
    "# Plot the Machine Learning results\n",
    "fig, ax = plt.subplots()\n",
    "colors = {0:'green', 1:'blue', 2:'red'}#, 3:'orange', 4:'purple'}#, 5:'black', 6:'grey', 7:'pink'}\n",
    "for key, group in cluster_groups:\n",
    "    group.plot(ax=ax, kind='scatter', x='id.resp_p', y='id.orig_p', alpha=0.05, s=100,\n",
    "               label='Cluster: {:d}'.format(key), color=colors[key])"
   ]
  },
  {
   "cell_type": "code",
   "execution_count": 26,
   "metadata": {},
   "outputs": [
    {
     "name": "stdout",
     "output_type": "stream",
     "text": [
      "\n",
      "Cluster 0: 444 observations\n",
      "                                            id.orig_h  id.orig_p    id.resp_h  rejected rcode_name  query_length\n",
      "ts                                                                                                              \n",
      "2018-12-07 20:58:54.398597             192.168.230.10       5353  224.0.0.251     False    NOERROR            54\n",
      "2018-12-07 20:58:54.398597  fe80::8a51:fbff:fee9:e904       5353     ff02::fb     False    NOERROR            54\n",
      "2018-12-07 20:58:54.395193  fe80::8a51:fbff:fee9:e904       5353     ff02::fb     False    NOERROR            54\n",
      "2018-12-07 20:58:54.394030             192.168.230.10       5353  224.0.0.251     False    NOERROR            54\n",
      "2018-12-07 21:00:54.406018  fe80::8a51:fbff:fee9:e904       5353     ff02::fb     False    NOERROR            54\n",
      "\n",
      "Cluster 1: 247 observations\n",
      "                                  id.orig_h  id.orig_p       id.resp_h  rejected rcode_name  query_length\n",
      "ts                                                                                                       \n",
      "2018-12-07 21:00:00.098604  192.168.230.115      45541  192.168.196.52     False   NXDOMAIN             1\n",
      "2018-12-07 21:00:01.239240  192.168.230.137      54504  192.168.196.52     False   NXDOMAIN             1\n",
      "2018-12-07 21:00:01.821986  192.168.230.135      44810  192.168.196.52     False   NXDOMAIN             1\n",
      "2018-12-07 21:00:00.122574  192.168.230.115      40547  192.168.196.52     False   NXDOMAIN             1\n",
      "2018-12-07 21:00:00.130560  192.168.230.115      59178  192.168.196.52     False   NXDOMAIN             1\n",
      "\n",
      "Cluster 2: 459 observations\n",
      "                                            id.orig_h  id.orig_p    id.resp_h  rejected rcode_name  query_length\n",
      "ts                                                                                                              \n",
      "2018-12-07 20:58:54.398597  fe80::fe66:9c07:d4c0:e690       5353     ff02::fb     False          -            54\n",
      "2018-12-07 20:58:54.395193  fe80::fe66:9c07:d4c0:e690       5353     ff02::fb     False          -            54\n",
      "2018-12-07 20:58:54.395193            192.168.230.136       5353  224.0.0.251     False          -            54\n",
      "2018-12-07 20:58:54.394030  fe80::fe66:9c07:d4c0:e690       5353     ff02::fb     False          -            54\n",
      "2018-12-07 20:58:54.394030            192.168.230.136       5353  224.0.0.251     False          -            54\n"
     ]
    }
   ],
   "source": [
    "# Now print out the details for each cluster\n",
    "pd.set_option('display.width', 1000)\n",
    "#show_fields = ['id.orig_h','id.orig_p','id.resp_h','query', 'proto', 'x', 'y', 'cluster', 'Z']\n",
    "show_fields = ['id.orig_h','id.orig_p',\n",
    "               'id.resp_h', 'rejected', \n",
    "               'rcode_name', 'query_length']\n",
    "#show_fields = ['id.orig_h','id.orig_p','id.resp_h','AA', 'RA', 'RD', 'TC', 'rejected', 'proto', 'query', \n",
    "#            'qclass_name', 'qtype_name', 'rcode_name', 'query_length']\n",
    "for key, group in cluster_groups:\n",
    "    print('\\nCluster {:d}: {:d} observations'.format(key, len(group)))\n",
    "    #print(group[show_fields])\n",
    "    print(group[show_fields].head())"
   ]
  },
  {
   "cell_type": "code",
   "execution_count": null,
   "metadata": {},
   "outputs": [],
   "source": []
  }
 ],
 "metadata": {
  "kernelspec": {
   "display_name": "Python 3",
   "language": "python",
   "name": "python3"
  },
  "language_info": {
   "codemirror_mode": {
    "name": "ipython",
    "version": 3
   },
   "file_extension": ".py",
   "mimetype": "text/x-python",
   "name": "python",
   "nbconvert_exporter": "python",
   "pygments_lexer": "ipython3",
   "version": "3.6.6"
  }
 },
 "nbformat": 4,
 "nbformat_minor": 2
}
