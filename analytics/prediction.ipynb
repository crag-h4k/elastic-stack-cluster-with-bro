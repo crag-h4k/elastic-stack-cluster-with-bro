{
 "cells": [
  {
   "cell_type": "code",
   "execution_count": 1,
   "metadata": {},
   "outputs": [],
   "source": [
    "from bat import bro_log_reader\n",
    "from datetime import timedelta\n",
    "from colorama import Fore, Style"
   ]
  },
  {
   "cell_type": "code",
   "execution_count": 38,
   "metadata": {},
   "outputs": [],
   "source": [
    "class connection:\n",
    "    def __init__(self, orig, dest, ts, prediction = False):\n",
    "        self.orig = orig\n",
    "        self.dest = dest\n",
    "        self.ts = ts\n",
    "        self.prediction = prediction\n",
    "\n",
    "def get_connections(reader):\n",
    "    conns = []\n",
    "    for row in reader.readrows():\n",
    "        orig = row.get('id.orig_h')\n",
    "        dest = row.get('id.resp_h')\n",
    "        ts = row.get('ts')\n",
    "        conns.append(connection(orig, dest, ts))\n",
    "    return conns\n",
    "\n",
    "def group_unique(connections):\n",
    "    unique_orig = []\n",
    "    grouped = []\n",
    "\n",
    "    for conn in connections:\n",
    "        if conn.orig not in unique_orig:\n",
    "            unique_orig.append(conn.orig)\n",
    "        else:\n",
    "            continue\n",
    "    for i in range(len(unique_orig)):\n",
    "        sub_group = []\n",
    "        for conn in connections:\n",
    "            if conn.orig == unique_orig[i]:\n",
    "                sub_group.append(conn)\n",
    "        grouped.append(sub_group)\n",
    "        \n",
    "    return grouped\n",
    "\n",
    "def check_days_ago(string_dt):\n",
    "    if '-' in string_dt:\n",
    "        return string_dt.replace('-','') + ' ago'\n",
    "    else:\n",
    "        return 'in ' + string_dt\n",
    "\n",
    "def predict_connection(grouped_connections):   \n",
    "    predicted = []\n",
    "    sep = '----'\n",
    "    for conns in grouped:\n",
    "        try:\n",
    "            # timedelta calculation found here:\n",
    "            #https://stackoverflow.com/questions/3617170/average-timedelta-in-list\n",
    "            timedeltas = [conns[i].ts - conns[i-1].ts for i in range(1, len(conns))]\n",
    "            avg = sum(timedeltas, timedelta(0)) / len(timedeltas)\n",
    "            \n",
    "            origin= conns[0].orig \n",
    "            destination = conns[0].dest\n",
    "            p_time = check_days_ago(str(avg))\n",
    "\n",
    "            p = connection(origin, destination, p_time, prediction = True)\n",
    "            predicted.append(p)\n",
    "            \n",
    "            print(Style.RESET_ALL + 'expect connection to', Fore.GREEN + origin,\n",
    "                  Style.RESET_ALL + 'from', Fore.BLUE + destination,\n",
    "                  Fore.RED +  p_time)\n",
    "        except:\n",
    "            continue\n",
    "    \n",
    "    return predicted"
   ]
  },
  {
   "cell_type": "code",
   "execution_count": 36,
   "metadata": {},
   "outputs": [
    {
     "name": "stdout",
     "output_type": "stream",
     "text": [
      "Successfully monitoring ./giant/ssh.log...\n",
      "29018 ssh connections\n"
     ]
    }
   ],
   "source": [
    "reader = bro_log_reader.BroLogReader('./giant/ssh.log')\n",
    "ssh_connections = get_connections(reader)\n",
    "grouped = group_unique(ssh_connections)\n",
    "print(len(ssh_connections), 'ssh connections')"
   ]
  },
  {
   "cell_type": "code",
   "execution_count": 37,
   "metadata": {},
   "outputs": [
    {
     "name": "stdout",
     "output_type": "stream",
     "text": [
      "\u001b[0mexpect connection to \u001b[32m192.168.230.115 \u001b[0mfrom \u001b[34m192.168.230.137 \u001b[31m1 day, 23:58:31.315883 ago\n",
      "\u001b[0mexpect connection to \u001b[32m172.16.10.32 \u001b[0mfrom \u001b[34m192.168.230.115 \u001b[31min 0:31:53.655336\n",
      "\u001b[0mexpect connection to \u001b[32m192.168.230.126 \u001b[0mfrom \u001b[34m192.168.230.115 \u001b[31min 9 days, 18:27:00.048165\n",
      "\u001b[0mexpect connection to \u001b[32m192.168.230.137 \u001b[0mfrom \u001b[34m192.168.230.115 \u001b[31min 24 days, 12:22:33.302764\n",
      "\u001b[0mexpect connection to \u001b[32m192.168.230.135 \u001b[0mfrom \u001b[34m192.168.230.115 \u001b[31min 18:52:18.628698\n",
      "\u001b[0mexpect connection to \u001b[32m192.168.231.10 \u001b[0mfrom \u001b[34m192.168.230.115 \u001b[31m1 day, 6:35:01.557586 ago\n",
      "\u001b[0mexpect connection to \u001b[32m172.16.10.15 \u001b[0mfrom \u001b[34m192.168.230.115 \u001b[31min 0:00:07.648027\n",
      "\u001b[0mexpect connection to \u001b[32m192.168.230.103 \u001b[0mfrom \u001b[34m192.168.230.100 \u001b[31min 0:01:37.804000\n",
      "\u001b[0mexpect connection to \u001b[32m192.168.230.106 \u001b[0mfrom \u001b[34m192.168.230.115 \u001b[31m1 day, 0:48:50.929322 ago\n",
      "\u001b[0mexpect connection to \u001b[32m192.168.216.11 \u001b[0mfrom \u001b[34m192.168.230.115 \u001b[31min 0:00:30.884008\n"
     ]
    },
    {
     "data": {
      "text/plain": [
       "[<__main__.connection at 0x7f6a4f549358>,\n",
       " <__main__.connection at 0x7f6a4f549400>,\n",
       " <__main__.connection at 0x7f6a4f549438>,\n",
       " <__main__.connection at 0x7f6a4f549390>,\n",
       " <__main__.connection at 0x7f6a4f5493c8>,\n",
       " <__main__.connection at 0x7f6a4f549470>,\n",
       " <__main__.connection at 0x7f6a4f5494a8>,\n",
       " <__main__.connection at 0x7f6a4f5494e0>,\n",
       " <__main__.connection at 0x7f6a4f549518>,\n",
       " <__main__.connection at 0x7f6a4f5454e0>]"
      ]
     },
     "execution_count": 37,
     "metadata": {},
     "output_type": "execute_result"
    }
   ],
   "source": [
    "predict_connection(grouped)"
   ]
  },
  {
   "cell_type": "code",
   "execution_count": null,
   "metadata": {},
   "outputs": [],
   "source": []
  }
 ],
 "metadata": {
  "kernelspec": {
   "display_name": "Python 3",
   "language": "python",
   "name": "python3"
  },
  "language_info": {
   "codemirror_mode": {
    "name": "ipython",
    "version": 3
   },
   "file_extension": ".py",
   "mimetype": "text/x-python",
   "name": "python",
   "nbconvert_exporter": "python",
   "pygments_lexer": "ipython3",
   "version": "3.5.3"
  }
 },
 "nbformat": 4,
 "nbformat_minor": 2
}
